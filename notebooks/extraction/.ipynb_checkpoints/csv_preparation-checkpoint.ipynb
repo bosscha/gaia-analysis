{
 "cells": [
  {
   "cell_type": "markdown",
   "id": "b088da93",
   "metadata": {},
   "source": [
    "# Preparing CSV files"
   ]
  },
  {
   "cell_type": "code",
   "execution_count": null,
   "id": "c41b06e8",
   "metadata": {},
   "outputs": [],
   "source": [
    "using Glob, CSV, DataFrames\n",
    "using Random , Printf\n",
    "\n",
    "rootdir = ENV[\"GAIA_ROOT\"]\n",
    "\n",
    "wdir    = \"$rootdir/products\"\n",
    "csvdir  = \"$rootdir/e2e_products.edr3\""
   ]
  }
 ],
 "metadata": {
  "kernelspec": {
   "display_name": "Julia 1.6.1",
   "language": "julia",
   "name": "julia-1.6"
  },
  "language_info": {
   "file_extension": ".jl",
   "mimetype": "application/julia",
   "name": "julia",
   "version": "1.6.1"
  }
 },
 "nbformat": 4,
 "nbformat_minor": 5
}
